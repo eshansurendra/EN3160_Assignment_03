{
  "nbformat": 4,
  "nbformat_minor": 0,
  "metadata": {
    "colab": {
      "provenance": [],
      "gpuType": "T4",
      "authorship_tag": "ABX9TyN8r6DhOoQQjXDL0GsfgIzq",
      "include_colab_link": true
    },
    "kernelspec": {
      "name": "python3",
      "display_name": "Python 3"
    },
    "language_info": {
      "name": "python"
    },
    "accelerator": "GPU"
  },
  "cells": [
    {
      "cell_type": "markdown",
      "metadata": {
        "id": "view-in-github",
        "colab_type": "text"
      },
      "source": [
        "<a href=\"https://colab.research.google.com/github/eshansurendra/EN3160_Assignment_03/blob/main/A03_E01.ipynb\" target=\"_parent\"><img src=\"https://colab.research.google.com/assets/colab-badge.svg\" alt=\"Open In Colab\"/></a>"
      ]
    },
    {
      "cell_type": "code",
      "execution_count": 1,
      "metadata": {
        "id": "k3-ZdF1fN6IY"
      },
      "outputs": [],
      "source": [
        "import torch\n",
        "import torch.nn as nn\n",
        "import torch.optim as optim\n",
        "import torchvision\n",
        "import torchvision.transforms as transforms\n",
        "import matplotlib.pyplot as plt"
      ]
    },
    {
      "cell_type": "code",
      "source": [
        "# 1. Dataloading\n",
        "transform = transforms.Compose([\n",
        "    transforms.ToTensor(),\n",
        "    transforms.Normalize((0.5, 0.5, 0.5), (0.5, 0.5, 0.5))\n",
        "])\n",
        "\n",
        "batch_size = 50\n",
        "trainset = torchvision.datasets.CIFAR10(root='./data', train=True, download=True, transform=transform)\n",
        "trainloader = torch.utils.data.DataLoader(trainset, batch_size=batch_size, shuffle=True, num_workers=2)\n",
        "testset = torchvision.datasets.CIFAR10(root='./data', train=False, download=True, transform=transform)\n",
        "testloader = torch.utils.data.DataLoader(testset, batch_size=batch_size, shuffle=False, num_workers=2)\n",
        "\n",
        "classes = ('plane', 'car', 'bird', 'cat', 'deer', 'dog', 'frog', 'horse', 'ship', 'truck')"
      ],
      "metadata": {
        "colab": {
          "base_uri": "https://localhost:8080/"
        },
        "id": "wMgqsH1BOBck",
        "outputId": "816fb788-0fee-4112-d840-343e3d8ea303"
      },
      "execution_count": 2,
      "outputs": [
        {
          "output_type": "stream",
          "name": "stdout",
          "text": [
            "Downloading https://www.cs.toronto.edu/~kriz/cifar-10-python.tar.gz to ./data/cifar-10-python.tar.gz\n"
          ]
        },
        {
          "output_type": "stream",
          "name": "stderr",
          "text": [
            "100%|██████████| 170M/170M [00:05<00:00, 30.2MB/s]\n"
          ]
        },
        {
          "output_type": "stream",
          "name": "stdout",
          "text": [
            "Extracting ./data/cifar-10-python.tar.gz to ./data\n",
            "Files already downloaded and verified\n"
          ]
        }
      ]
    },
    {
      "cell_type": "markdown",
      "source": [
        "## Given Sample Code Run Attempt"
      ],
      "metadata": {
        "id": "0i8Pk5NROvsC"
      }
    },
    {
      "cell_type": "code",
      "source": [
        "# 2. Define Network Parameters\n",
        "Din = 3 * 32 * 32  # Input size (flattened CIFAR-10 image size)\n",
        "K = 10  # Output size (number of classes in CIFAR-10)\n",
        "std = 1e-5\n",
        "\n",
        "# Initialize weights and biases\n",
        "w = torch.randn(Din, K) * std  # One layer: directly map input to output\n",
        "b = torch.zeros(K)\n",
        "\n",
        "# Hyperparameters\n",
        "iterations = 20\n",
        "lr = 2e-6  # Learning rate\n",
        "lr_decay = 0.9  # Learning rate decay\n",
        "reg = 0  # Regularization\n",
        "loss_history = []"
      ],
      "metadata": {
        "id": "eP3n6KoTOCLg"
      },
      "execution_count": 3,
      "outputs": []
    },
    {
      "cell_type": "code",
      "source": [
        "# 3. Training Loop\n",
        "for t in range(iterations):\n",
        "    running_loss = 0.0\n",
        "    for i, data in enumerate(trainloader, 0):\n",
        "        # Get inputs and labels\n",
        "        inputs, labels = data\n",
        "        Ntr = inputs.shape[0]  # Batch size\n",
        "        x_train = inputs.view(Ntr, -1)  # Flatten input to (Ntr, Din)\n",
        "        y_train_onehot = nn.functional.one_hot(labels, K).float()  # Convert labels to one-hot encoding\n",
        "\n",
        "        # Forward pass\n",
        "        y_pred = x_train.mm(w) + b  # Output layer activation\n",
        "\n",
        "        # Loss calculation (Mean Squared Error with regularization)\n",
        "        loss = (1 / Ntr) * torch.sum((y_pred - y_train_onehot) ** 2) + reg * torch.sum(w ** 2)\n",
        "        loss_history.append(loss.item())\n",
        "        running_loss += loss.item()\n",
        "\n",
        "        # Backpropagation\n",
        "        dy_pred = (2.0 / Ntr) * (y_pred - y_train_onehot)\n",
        "        dw = x_train.t().mm(dy_pred) + reg * w\n",
        "        db = dy_pred.sum(dim=0)\n",
        "\n",
        "        # Parameter update\n",
        "        w -= lr * dw\n",
        "        b -= lr * db\n",
        "\n",
        "    # Print loss for every epoch\n",
        "    if t % 1 == 0:\n",
        "        print(f\"Epoch {t + 1}/{iterations}, Loss: {running_loss / len(trainloader)}\")\n",
        "\n",
        "    # Learning rate decay\n",
        "    lr *= lr_decay"
      ],
      "metadata": {
        "colab": {
          "base_uri": "https://localhost:8080/"
        },
        "id": "95t3ASpOOFGB",
        "outputId": "3b9c65c5-c524-472c-f919-7e303256138f"
      },
      "execution_count": 4,
      "outputs": [
        {
          "output_type": "stream",
          "name": "stdout",
          "text": [
            "Epoch 1/20, Loss: 0.9769272465109825\n",
            "Epoch 2/20, Loss: 0.9498212249875069\n",
            "Epoch 3/20, Loss: 0.9360911732316017\n",
            "Epoch 4/20, Loss: 0.9275490470528602\n",
            "Epoch 5/20, Loss: 0.9216118362545968\n",
            "Epoch 6/20, Loss: 0.9172068119645119\n",
            "Epoch 7/20, Loss: 0.9137930574417115\n",
            "Epoch 8/20, Loss: 0.9110642638206482\n",
            "Epoch 9/20, Loss: 0.9088338066339493\n",
            "Epoch 10/20, Loss: 0.9069805561900138\n",
            "Epoch 11/20, Loss: 0.905420168042183\n",
            "Epoch 12/20, Loss: 0.9040930240750312\n",
            "Epoch 13/20, Loss: 0.9029543214440345\n",
            "Epoch 14/20, Loss: 0.9019707384109497\n",
            "Epoch 15/20, Loss: 0.9011168321967125\n",
            "Epoch 16/20, Loss: 0.9003716661334038\n",
            "Epoch 17/20, Loss: 0.8997190827727318\n",
            "Epoch 18/20, Loss: 0.8991455644965172\n",
            "Epoch 19/20, Loss: 0.8986400582194328\n",
            "Epoch 20/20, Loss: 0.8981934612989426\n"
          ]
        }
      ]
    },
    {
      "cell_type": "code",
      "source": [
        "# 4. Plotting the Loss History\n",
        "plt.plot(loss_history)\n",
        "plt.title(\"Loss History\")\n",
        "plt.xlabel(\"Iteration\")\n",
        "plt.ylabel(\"Loss\")\n",
        "plt.show()"
      ],
      "metadata": {
        "colab": {
          "base_uri": "https://localhost:8080/",
          "height": 472
        },
        "id": "ZUGXCkNqOGiw",
        "outputId": "40f5c406-e9cf-445f-c8e8-19e7ff1922a9"
      },
      "execution_count": 5,
      "outputs": [
        {
          "output_type": "display_data",
          "data": {
            "text/plain": [
              "<Figure size 640x480 with 1 Axes>"
            ],
            "image/png": "[encoded data removed]"
          },
          "metadata": {}
        }
      ]
    },
    {
      "cell_type": "code",
      "source": [
        "# 5. Calculate Accuracy on Training Set\n",
        "correct_train = 0\n",
        "total_train = 0\n",
        "with torch.no_grad():\n",
        "    for data in trainloader:\n",
        "        inputs, labels = data\n",
        "        Ntr = inputs.shape[0]\n",
        "        x_train = inputs.view(Ntr, -1)\n",
        "\n",
        "        # Forward pass\n",
        "        y_train_pred = x_train.mm(w) + b\n",
        "        predicted_train = torch.argmax(y_train_pred, dim=1)\n",
        "        total_train += labels.size(0)\n",
        "        correct_train += (predicted_train == labels).sum().item()\n",
        "\n",
        "train_acc = 100 * correct_train / total_train\n",
        "print(f\"Training accuracy: {train_acc:.2f}%\")\n"
      ],
      "metadata": {
        "colab": {
          "base_uri": "https://localhost:8080/"
        },
        "id": "IQhFTRSFOHxr",
        "outputId": "c8415110-a7c3-4465-cc24-6cd8f9ae8f8a"
      },
      "execution_count": 6,
      "outputs": [
        {
          "output_type": "stream",
          "name": "stdout",
          "text": [
            "Training accuracy: 32.22%\n"
          ]
        }
      ]
    },
    {
      "cell_type": "code",
      "source": [
        "# 6. Calculate Accuracy on Test Set\n",
        "correct_test = 0\n",
        "total_test = 0\n",
        "with torch.no_grad():\n",
        "    for data in testloader:\n",
        "        inputs, labels = data\n",
        "        Nte = inputs.shape[0]\n",
        "        x_test = inputs.view(Nte, -1)\n",
        "\n",
        "        # Forward pass\n",
        "        y_test_pred = x_test.mm(w) + b\n",
        "        predicted_test = torch.argmax(y_test_pred, dim=1)\n",
        "        total_test += labels.size(0)\n",
        "        correct_test += (predicted_test == labels).sum().item()\n",
        "\n",
        "test_acc = 100 * correct_test / total_test\n",
        "print(f\"Test accuracy: {test_acc:.2f}%\")"
      ],
      "metadata": {
        "colab": {
          "base_uri": "https://localhost:8080/"
        },
        "id": "unoei1lBOJgI",
        "outputId": "6463baf6-6aa6-42d0-ec1b-2f54a5d541e4"
      },
      "execution_count": 7,
      "outputs": [
        {
          "output_type": "stream",
          "name": "stdout",
          "text": [
            "Test accuracy: 32.37%\n"
          ]
        }
      ]
    },
    {
      "cell_type": "markdown",
      "source": [
        "## Modified code - middle layer with 100 nodes and a sigmoid activation used cross-entropy loss"
      ],
      "metadata": {
        "id": "N2XRYsUAO1ND"
      }
    },
    {
      "cell_type": "code",
      "source": [
        "import torch\n",
        "import torch.nn as nn\n",
        "import torchvision\n",
        "import torchvision.transforms as transforms\n",
        "import matplotlib.pyplot as plt\n",
        "\n",
        "# Check if GPU is available and set device\n",
        "device = torch.device(\"cuda:0\" if torch.cuda.is_available() else \"cpu\")\n",
        "print(f\"Using device: {device}\")\n",
        "\n",
        "# 1. Dataloading\n",
        "transform = transforms.Compose([\n",
        "    transforms.ToTensor(),\n",
        "    transforms.Normalize((0.5, 0.5, 0.5), (0.5, 0.5, 0.5))\n",
        "])\n",
        "\n",
        "batch_size = 50\n",
        "trainset = torchvision.datasets.CIFAR10(root='./data', train=True, download=True, transform=transform)\n",
        "trainloader = torch.utils.data.DataLoader(trainset, batch_size=batch_size, shuffle=True, num_workers=0)\n",
        "testset = torchvision.datasets.CIFAR10(root='./data', train=False, download=True, transform=transform)\n",
        "testloader = torch.utils.data.DataLoader(testset, batch_size=batch_size, shuffle=False, num_workers=0)\n",
        "\n",
        "classes = ('plane', 'car', 'bird', 'cat', 'deer', 'dog', 'frog', 'horse', 'ship', 'truck')\n",
        "\n",
        "# 2. Define Network Parameters\n",
        "Din = 3 * 32 * 32  # Input size (flattened CIFAR-10 image size)\n",
        "H = 100  # Number of nodes in hidden layer\n",
        "K = 10  # Output size (number of classes in CIFAR-10)\n",
        "std = 1e-5\n",
        "\n",
        "# Initialize weights and biases for both layers and move them to the GPU\n",
        "w1 = torch.randn(Din, H, device=device) * std  # Input to hidden layer weights\n",
        "b1 = torch.zeros(H, device=device)\n",
        "w2 = torch.randn(H, K, device=device) * std  # Hidden to output layer weights\n",
        "b2 = torch.zeros(K, device=device)\n",
        "\n",
        "# Hyperparameters\n",
        "epochs = 10\n",
        "lr = 1e-3  # Learning rate\n",
        "lr_decay = 0.9  # Learning rate decay\n",
        "reg = 0  # Regularization\n",
        "loss_history = []\n",
        "\n",
        "# Define cross-entropy loss function\n",
        "def cross_entropy_loss(y_pred, y_true):\n",
        "    return -torch.sum(y_true * torch.log(y_pred + 1e-9)) / y_true.shape[0]\n",
        "\n",
        "# Sigmoid Activation Function\n",
        "def sigmoid(x):\n",
        "    return 1 / (1 + torch.exp(-x))\n",
        "\n",
        "\n",
        "# 3. Training Loop\n",
        "for epoch in range(epochs):\n",
        "    running_loss = 0.0\n",
        "    for i, data in enumerate(trainloader, 0):\n",
        "        # Get inputs and labels and move them to the GPU\n",
        "        inputs, labels = data[0].to(device), data[1].to(device)\n",
        "        Ntr = inputs.shape[0]  # Batch size\n",
        "        x_train = inputs.view(Ntr, -1)  # Flatten input to (Ntr, Din)\n",
        "        y_train_onehot = nn.functional.one_hot(labels, K).float() # Convert labels to one-hot encoding\n",
        "\n",
        "        # Forward pass: Layer 1\n",
        "        hidden_layer = torch.sigmoid(x_train.mm(w1) + b1)\n",
        "\n",
        "        # Forward pass: Layer 2 (output layer)\n",
        "        y_pred = torch.softmax(hidden_layer.mm(w2) + b2, dim = 1)  # Output layer activation\n",
        "\n",
        "        # Loss calculation (Cross-Entropy Loss with regularization)\n",
        "        loss = cross_entropy_loss(y_pred, y_train_onehot) + reg * (torch.sum(w1**2) + torch.sum(w2**2))\n",
        "        loss_history.append(loss.item())\n",
        "        running_loss += loss.item()\n",
        "\n",
        "        # Backpropagation\n",
        "        dy_pred = y_pred - y_train_onehot\n",
        "        dw2 = hidden_layer.t().mm(dy_pred) + reg * w2\n",
        "        db2 = dy_pred.sum(dim=0)\n",
        "        dhidden = dy_pred.mm(w2.t()) * hidden_layer * (1 - hidden_layer)\n",
        "        dw1 = x_train.t().mm(dhidden) + reg * w1\n",
        "        db1 = dhidden.sum(dim=0)\n",
        "\n",
        "        # Parameter update\n",
        "        w1 -= lr * dw1\n",
        "        b1 -= lr * db1\n",
        "        w2 -= lr * dw2\n",
        "        b2 -= lr * db2\n",
        "\n",
        "    # Print loss for every epoch\n",
        "    print(f\"Epoch {epoch + 1}/{epochs}, Loss: {running_loss / len(trainloader)}\")\n",
        "\n",
        "    # Learning rate decay\n",
        "    lr *= lr_decay\n"
      ],
      "metadata": {
        "colab": {
          "base_uri": "https://localhost:8080/"
        },
        "id": "CBDdFBEYPGMQ",
        "outputId": "865091c3-03dd-4f43-cfe2-1d867b397284"
      },
      "execution_count": 23,
      "outputs": [
        {
          "output_type": "stream",
          "name": "stdout",
          "text": [
            "Using device: cuda:0\n",
            "Files already downloaded and verified\n",
            "Files already downloaded and verified\n",
            "Epoch 1/10, Loss: 2.157102610707283\n",
            "Epoch 2/10, Loss: 1.8975667948722839\n",
            "Epoch 3/10, Loss: 1.8007661818265914\n",
            "Epoch 4/10, Loss: 1.745392415881157\n",
            "Epoch 5/10, Loss: 1.7077248120307922\n",
            "Epoch 6/10, Loss: 1.6809421886205673\n",
            "Epoch 7/10, Loss: 1.660348942756653\n",
            "Epoch 8/10, Loss: 1.6424172828197479\n",
            "Epoch 9/10, Loss: 1.6266672060489655\n",
            "Epoch 10/10, Loss: 1.613416032910347\n"
          ]
        }
      ]
    },
    {
      "cell_type": "code",
      "source": [
        "# 4. Plotting the Loss History\n",
        "plt.plot(loss_history)\n",
        "plt.title(\"Loss History\")\n",
        "plt.xlabel(\"Iteration\")\n",
        "plt.ylabel(\"Loss\")\n",
        "plt.show()"
      ],
      "metadata": {
        "colab": {
          "base_uri": "https://localhost:8080/",
          "height": 472
        },
        "id": "lHpXH9jgPxdK",
        "outputId": "d095a8e4-207a-4158-d2c9-85e483da95c6"
      },
      "execution_count": 24,
      "outputs": [
        {
          "output_type": "display_data",
          "data": {
            "text/plain": [
              "<Figure size 640x480 with 1 Axes>"
            ],
            "image/png": "[encoded data removed]"
          },
          "metadata": {}
        }
      ]
    },
    {
      "cell_type": "code",
      "source": [
        "# 5. Calculate Accuracy on Training Set\n",
        "correct_train = 0\n",
        "total_train = 0\n",
        "with torch.no_grad():\n",
        "    for data in trainloader:\n",
        "        inputs, labels = data[0].to(device), data[1].to(device)\n",
        "        Ntr = inputs.shape[0]\n",
        "        x_train = inputs.view(Ntr, -1)\n",
        "\n",
        "        # Forward pass\n",
        "        hidden_output = sigmoid(x_train.mm(w1) + b1)\n",
        "        y_train_pred = torch.softmax(hidden_output.mm(w2) + b2, dim=1)\n",
        "        predicted_train = torch.argmax(y_train_pred, dim=1)\n",
        "        total_train += labels.size(0)\n",
        "        correct_train += (predicted_train == labels).sum().item()\n",
        "\n",
        "train_acc = 100 * correct_train / total_train\n",
        "print(f\"Training accuracy: {train_acc:.2f}%\")"
      ],
      "metadata": {
        "colab": {
          "base_uri": "https://localhost:8080/"
        },
        "id": "lLaPecIePwIb",
        "outputId": "aa594181-5de8-4acf-d95b-00d42b6e91a6"
      },
      "execution_count": 28,
      "outputs": [
        {
          "output_type": "stream",
          "name": "stdout",
          "text": [
            "Training accuracy: 44.38%\n"
          ]
        }
      ]
    },
    {
      "cell_type": "code",
      "source": [
        "# 6. Calculate Accuracy on Test Set\n",
        "correct_test = 0\n",
        "total_test = 0\n",
        "with torch.no_grad():\n",
        "    for data in testloader:\n",
        "        inputs, labels = data[0].to(device), data[1].to(device)\n",
        "        Nte = inputs.shape[0]\n",
        "        x_test = inputs.view(Nte, -1)\n",
        "\n",
        "        # Forward pass\n",
        "        hidden_output = sigmoid(x_test.mm(w1) + b1)\n",
        "        y_test_pred = torch.softmax(hidden_output.mm(w2) + b2, dim=1)\n",
        "        predicted_test = torch.argmax(y_test_pred, dim=1)\n",
        "        total_test += labels.size(0)\n",
        "        correct_test += (predicted_test == labels).sum().item()\n",
        "\n",
        "test_acc = 100 * correct_test / total_test\n",
        "print(f\"Test accuracy: {test_acc:.2f}%\")"
      ],
      "metadata": {
        "colab": {
          "base_uri": "https://localhost:8080/"
        },
        "id": "E9fj4AXaW4FA",
        "outputId": "d051525f-621c-4bf5-fa28-9c64e45b1cc0"
      },
      "execution_count": 27,
      "outputs": [
        {
          "output_type": "stream",
          "name": "stdout",
          "text": [
            "Test accuracy: 43.70%\n"
          ]
        }
      ]
    }
  ]
}